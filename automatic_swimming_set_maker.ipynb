{
  "nbformat": 4,
  "nbformat_minor": 0,
  "metadata": {
    "colab": {
      "provenance": [],
      "authorship_tag": "ABX9TyPzH7r2E5fueeAifW6Ol5tT",
      "include_colab_link": true
    },
    "kernelspec": {
      "name": "python3",
      "display_name": "Python 3"
    },
    "language_info": {
      "name": "python"
    },
    "gpuClass": "standard"
  },
  "cells": [
    {
      "cell_type": "markdown",
      "metadata": {
        "id": "view-in-github",
        "colab_type": "text"
      },
      "source": [
        "<a href=\"https://colab.research.google.com/github/adrianyang2012/automatic_swim_set_maker/blob/main/automatic_swimming_set_maker.ipynb\" target=\"_parent\"><img src=\"https://colab.research.google.com/assets/colab-badge.svg\" alt=\"Open In Colab\"/></a>"
      ]
    },
    {
      "cell_type": "code",
      "execution_count": 31,
      "metadata": {
        "id": "SiAAaianZbv6"
      },
      "outputs": [],
      "source": [
        "import random\n",
        "\n",
        "class swimming_set():\n",
        "  \n",
        "  def __init__(self,title,difficulty,how_much_yards,time_for_main_stroke,main_stroke,freestyle_time):\n",
        "    self.title = title\n",
        "    self.difficulty = difficulty\n",
        "    self.activites = []\n",
        "    self.how_much_yards = how_much_yards\n",
        "    self.how_much_yards_left = how_much_yards\n",
        "    self.time_for_main_stroke = time_for_main_stroke\n",
        "    self.main_stroke = main_stroke\n",
        "    self.freestyle_time = freestyle_time\n",
        "    self.main_things = {'freestyle':['100 Frim','100 freestyle','4x25 sprint'],'butterfly':['100 IM','4x25 butterfly sprint','2x50 butterfly'],'backstroke':['100 IM','100 Frim','100 backstroke sprint'],'breaststroke':['100 Frim','100 IM','100 sprint']}\n",
        "    self.drills = {'freestyle':['zipper drill','fist drill','Head up drill','drag finger tips drill'],'butterfly':['1 hand butterfly drill','2-2-2 drill','freestyle kick and butterfly hand drill','sideways drill'],'breaststroke':['2 kick 1 pull drill','heal tag drill(put your hands on heel)','frestyle kick breaststroke pull','breastroke kick with butterfly hands'],'backstroke':['butterfly hands on back drill','backstroke spin drill','no kick backstroke drill','streamline backstroke']}\n",
        "  def add_warm_up(self):\n",
        "    if self.freestyle_time > 20 or self.difficulty == 'easy':\n",
        "      self.activites.append([100,'warm up'])\n",
        "      self.how_much_yards_left-=100\n",
        "    elif self.freestyle_time > 16 or self.difficulty == 'normal':\n",
        "      self.activites.append([200,'warm up'])\n",
        "      self.how_much_yards_left-=200\n",
        "    else:\n",
        "      self.activites.append([300,'warm up',450])\n",
        "      self.how_much_yards_left-=300\n",
        "    kick_time = random.randint(3,4)\n",
        "    self.how_much_yards_left -=kick_time*50\n",
        "    self.activites.append([kick_time*50,f'kick 50*{kick_time}'])\n",
        "  def add_drills(self):\n",
        "    using = round(0.5 * self.how_much_yards_left/100)*100\n",
        "    if self.difficulty == 'easy':\n",
        "      using = round(0.5 * self.how_much_yards_left/100)*100-100\n",
        "    if using > 400:\n",
        "      using = 400\n",
        "\n",
        "    self.how_much_yards_left -= using\n",
        "    used_drills = []\n",
        "    for i in range(0,int(using/100)):\n",
        "      avalible = 0\n",
        "      while not avalible:\n",
        "        drill_using = random.choice(self.drills[self.main_stroke])\n",
        "        if drill_using in used_drills:\n",
        "          continue\n",
        "        used_drills.append(drill_using)\n",
        "        self.activites.append([\"4x25 \"+drill_using,100,50])\n",
        "        avalible = 1\n",
        "    \n",
        "  def add_main_part(self):\n",
        "    using = round((self.how_much_yards_left-100)/100)*100\n",
        "    if self.difficulty == 'easy':\n",
        "      using = round((self.how_much_yards_left-200)/100)*100\n",
        "\n",
        "    if using >= 0:\n",
        "      self.how_much_yards_left -= using\n",
        "    self.using_left = using\n",
        "    using_set = []\n",
        "    i = 0\n",
        "    while True:\n",
        "      if i>= using/100:\n",
        "        break\n",
        "      set_using = random.choice(self.main_things[self.main_stroke])\n",
        "      using_set.append(set_using)\n",
        "      i+=1\n",
        "      \n",
        "    i = 0\n",
        "    used_already = []\n",
        "    while True:\n",
        "      if i >= using/100:\n",
        "        break\n",
        "      if not using_set[i] in used_already:\n",
        "        self.activites.append([str(using_set.count(using_set[i])) + 'x' + using_set[i],using_set.count(using_set[i])*100])\n",
        "        used_already.append(using_set[i])\n",
        "\n",
        "      i += 1\n",
        "      \n",
        "\n",
        "\n",
        "      \n",
        "  def add_cool_down(self):\n",
        "    if self.how_much_yards_left > 0:\n",
        "      self.activites.append(['cool down',self.how_much_yards_left])\n",
        "      self.how_much_yards_left = 0\n",
        "  def add_everything(self):\n",
        "    self.add_warm_up()\n",
        "    self.add_drills()\n",
        "    self.add_main_part()\n",
        "    self.add_cool_down()\n",
        "\n",
        "  def show_full_set(self):\n",
        "    print(f\"Title name:{self.title}, difficulty:{self.difficulty}\")\n",
        "\n",
        "    for i in range(0,len(self.activites)):\n",
        "      try:\n",
        "        print(f\"{i+1}. {self.activites[i][0]} {self.activites[i][1]} : {self.activites[i][2]}\\n \")\n",
        "      except:\n",
        "        print(f\"{i+1}. {self.activites[i][0]} {self.activites[i][1]}\\n\")\n",
        "      \n",
        "    print(f\"total amount:{self.how_much_yards}\")\n",
        "\n"
      ]
    },
    {
      "cell_type": "code",
      "source": [],
      "metadata": {
        "id": "tEMCT_rfADIZ"
      },
      "execution_count": 31,
      "outputs": []
    },
    {
      "cell_type": "code",
      "source": [
        "use_dictionary= {}"
      ],
      "metadata": {
        "id": "62K8wdyZOxsJ"
      },
      "execution_count": 29,
      "outputs": []
    },
    {
      "cell_type": "code",
      "source": [
        "name = input('what is your name: ')\n",
        "\n",
        "if name in list(use_dictionary.keys()):\n",
        "  time_dictionary = use_dictionary[name]\n",
        "else:\n",
        "  time_dictionary = {'freestyle':int(input('what is your 25 yard freestyle time: ')),'butterfly':int(input('what is your 25 yard butterfly time: ')),'breaststroke':int(input('what is your 25 yard breaststroke time: ')),'backstroke':int(input('25 yardwhat is your backstroke time: '))}\n",
        "  use_dictionary[name] = time_dictionary"
      ],
      "metadata": {
        "colab": {
          "base_uri": "https://localhost:8080/",
          "height": 399
        },
        "id": "MuUQX5eFJJvO",
        "outputId": "14081bba-a679-4bfd-95bf-c06e7b087678"
      },
      "execution_count": 32,
      "outputs": [
        {
          "output_type": "error",
          "ename": "KeyboardInterrupt",
          "evalue": "ignored",
          "traceback": [
            "\u001b[0;31m---------------------------------------------------------------------------\u001b[0m",
            "\u001b[0;31mKeyboardInterrupt\u001b[0m                         Traceback (most recent call last)",
            "\u001b[0;32m<ipython-input-32-bb039d2b57c3>\u001b[0m in \u001b[0;36m<cell line: 1>\u001b[0;34m()\u001b[0m\n\u001b[0;32m----> 1\u001b[0;31m \u001b[0mname\u001b[0m \u001b[0;34m=\u001b[0m \u001b[0minput\u001b[0m\u001b[0;34m(\u001b[0m\u001b[0;34m'what is your name: '\u001b[0m\u001b[0;34m)\u001b[0m\u001b[0;34m\u001b[0m\u001b[0;34m\u001b[0m\u001b[0m\n\u001b[0m\u001b[1;32m      2\u001b[0m \u001b[0;34m\u001b[0m\u001b[0m\n\u001b[1;32m      3\u001b[0m \u001b[0;32mif\u001b[0m \u001b[0mname\u001b[0m \u001b[0;32min\u001b[0m \u001b[0mlist\u001b[0m\u001b[0;34m(\u001b[0m\u001b[0muse_dictionary\u001b[0m\u001b[0;34m.\u001b[0m\u001b[0mkeys\u001b[0m\u001b[0;34m(\u001b[0m\u001b[0;34m)\u001b[0m\u001b[0;34m)\u001b[0m\u001b[0;34m:\u001b[0m\u001b[0;34m\u001b[0m\u001b[0;34m\u001b[0m\u001b[0m\n\u001b[1;32m      4\u001b[0m   \u001b[0mtime_dictionary\u001b[0m \u001b[0;34m=\u001b[0m \u001b[0muse_dictionary\u001b[0m\u001b[0;34m[\u001b[0m\u001b[0mname\u001b[0m\u001b[0;34m]\u001b[0m\u001b[0;34m\u001b[0m\u001b[0;34m\u001b[0m\u001b[0m\n\u001b[1;32m      5\u001b[0m \u001b[0;32melse\u001b[0m\u001b[0;34m:\u001b[0m\u001b[0;34m\u001b[0m\u001b[0;34m\u001b[0m\u001b[0m\n",
            "\u001b[0;32m/usr/local/lib/python3.9/dist-packages/ipykernel/kernelbase.py\u001b[0m in \u001b[0;36mraw_input\u001b[0;34m(self, prompt)\u001b[0m\n\u001b[1;32m    849\u001b[0m                 \u001b[0;34m\"raw_input was called, but this frontend does not support input requests.\"\u001b[0m\u001b[0;34m\u001b[0m\u001b[0;34m\u001b[0m\u001b[0m\n\u001b[1;32m    850\u001b[0m             )\n\u001b[0;32m--> 851\u001b[0;31m         return self._input_request(str(prompt),\n\u001b[0m\u001b[1;32m    852\u001b[0m             \u001b[0mself\u001b[0m\u001b[0;34m.\u001b[0m\u001b[0m_parent_ident\u001b[0m\u001b[0;34m,\u001b[0m\u001b[0;34m\u001b[0m\u001b[0;34m\u001b[0m\u001b[0m\n\u001b[1;32m    853\u001b[0m             \u001b[0mself\u001b[0m\u001b[0;34m.\u001b[0m\u001b[0m_parent_header\u001b[0m\u001b[0;34m,\u001b[0m\u001b[0;34m\u001b[0m\u001b[0;34m\u001b[0m\u001b[0m\n",
            "\u001b[0;32m/usr/local/lib/python3.9/dist-packages/ipykernel/kernelbase.py\u001b[0m in \u001b[0;36m_input_request\u001b[0;34m(self, prompt, ident, parent, password)\u001b[0m\n\u001b[1;32m    893\u001b[0m             \u001b[0;32mexcept\u001b[0m \u001b[0mKeyboardInterrupt\u001b[0m\u001b[0;34m:\u001b[0m\u001b[0;34m\u001b[0m\u001b[0;34m\u001b[0m\u001b[0m\n\u001b[1;32m    894\u001b[0m                 \u001b[0;31m# re-raise KeyboardInterrupt, to truncate traceback\u001b[0m\u001b[0;34m\u001b[0m\u001b[0;34m\u001b[0m\u001b[0m\n\u001b[0;32m--> 895\u001b[0;31m                 \u001b[0;32mraise\u001b[0m \u001b[0mKeyboardInterrupt\u001b[0m\u001b[0;34m(\u001b[0m\u001b[0;34m\"Interrupted by user\"\u001b[0m\u001b[0;34m)\u001b[0m \u001b[0;32mfrom\u001b[0m \u001b[0;32mNone\u001b[0m\u001b[0;34m\u001b[0m\u001b[0;34m\u001b[0m\u001b[0m\n\u001b[0m\u001b[1;32m    896\u001b[0m             \u001b[0;32mexcept\u001b[0m \u001b[0mException\u001b[0m \u001b[0;32mas\u001b[0m \u001b[0me\u001b[0m\u001b[0;34m:\u001b[0m\u001b[0;34m\u001b[0m\u001b[0;34m\u001b[0m\u001b[0m\n\u001b[1;32m    897\u001b[0m                 \u001b[0mself\u001b[0m\u001b[0;34m.\u001b[0m\u001b[0mlog\u001b[0m\u001b[0;34m.\u001b[0m\u001b[0mwarning\u001b[0m\u001b[0;34m(\u001b[0m\u001b[0;34m\"Invalid Message:\"\u001b[0m\u001b[0;34m,\u001b[0m \u001b[0mexc_info\u001b[0m\u001b[0;34m=\u001b[0m\u001b[0;32mTrue\u001b[0m\u001b[0;34m)\u001b[0m\u001b[0;34m\u001b[0m\u001b[0;34m\u001b[0m\u001b[0m\n",
            "\u001b[0;31mKeyboardInterrupt\u001b[0m: Interrupted by user"
          ]
        }
      ]
    },
    {
      "cell_type": "code",
      "source": [
        "main_stroke = input('what is the main stroke: ')\n",
        "difficulty = input('what is the difficulty: ')\n",
        "title = input('what is the title of this set: ')\n",
        "if main_stroke in ['freestyle','butterfly','breaststroke','backstroke']:\n",
        "  try:\n",
        "    how_long = int(input('how long is the set?: '))\n",
        "    redo = 1\n",
        "    while redo:\n",
        "      thing = swimming_set(title,difficulty,how_long,time_dictionary[main_stroke],main_stroke,time_dictionary['freestyle'])\n",
        "      thing.add_everything()\n",
        "      thing.show_full_set()\n",
        "      if input('do you want to use this? y/n') == 'y':\n",
        "        redo = 0\n",
        "  except:\n",
        "    print('type a number')\n",
        "else:\n",
        "  print('that is not a stroke')"
      ],
      "metadata": {
        "id": "3FCUQjNGWigi",
        "colab": {
          "base_uri": "https://localhost:8080/"
        },
        "outputId": "416ac50d-73b5-445e-bef9-358d638cbc36"
      },
      "execution_count": 27,
      "outputs": [
        {
          "name": "stdout",
          "output_type": "stream",
          "text": [
            "what is the main stroke: butterfly\n",
            "what is the difficulty: hard\n",
            "what is the title of this set: hard\n",
            "how long is the set?: 1500\n",
            "Title name:hard, difficulty:hard\n",
            "1. 300 warm up : 450\n",
            " \n",
            "2. 150 kick 50*3\n",
            "\n",
            "3. 4x25 freestyle kick and butterfly hand drill 100 : 50\n",
            " \n",
            "4. 4x25 2-2-2 drill 100 : 50\n",
            " \n",
            "5. 4x25 1 hand butterfly drill 100 : 50\n",
            " \n",
            "6. 4x25 sideways drill 100 : 50\n",
            " \n",
            "7. 3x100 butterfly 300\n",
            "\n",
            "8. 1x25x4 butterfly sprint 100\n",
            "\n",
            "9. 2x100 IM 200\n",
            "\n",
            "10. cool down 50\n",
            "\n",
            "total amount:1500\n",
            "do you want to use this? y/ny\n"
          ]
        }
      ]
    },
    {
      "cell_type": "code",
      "source": [],
      "metadata": {
        "id": "NvKolp73D5Aq"
      },
      "execution_count": null,
      "outputs": []
    }
  ]
}