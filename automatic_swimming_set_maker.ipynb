{
  "nbformat": 4,
  "nbformat_minor": 0,
  "metadata": {
    "colab": {
      "provenance": [],
      "authorship_tag": "ABX9TyNHnQTBzpOgInUrpGVT6oOX",
      "include_colab_link": true
    },
    "kernelspec": {
      "name": "python3",
      "display_name": "Python 3"
    },
    "language_info": {
      "name": "python"
    },
    "gpuClass": "standard"
  },
  "cells": [
    {
      "cell_type": "markdown",
      "metadata": {
        "id": "view-in-github",
        "colab_type": "text"
      },
      "source": [
        "<a href=\"https://colab.research.google.com/github/adrianyang2012/automatic_swim_set_maker/blob/main/automatic_swimming_set_maker.ipynb\" target=\"_parent\"><img src=\"https://colab.research.google.com/assets/colab-badge.svg\" alt=\"Open In Colab\"/></a>"
      ]
    },
    {
      "cell_type": "code",
      "execution_count": 56,
      "metadata": {
        "id": "SiAAaianZbv6"
      },
      "outputs": [],
      "source": [
        "import random\n",
        "\n",
        "class swimming_set():\n",
        "  \n",
        "  def __init__(self,title,difficulty,how_much_yards,time_for_main_stroke,main_stroke,freestyle_time):\n",
        "    self.title = title\n",
        "    self.difficulty = difficulty\n",
        "    self.activites = []\n",
        "    self.how_much_yards = how_much_yards\n",
        "    self.how_much_yards_left = how_much_yards\n",
        "    self.time_for_main_stroke = time_for_main_stroke\n",
        "    self.main_stroke = main_stroke\n",
        "    self.freestyle_time = freestyle_time\n",
        "    self.main_things = {'freestyle':['100 Frim','100 freestyle','4*25 sprint'],'butterfly':['100 IM','25x4 butterfly sprint','100 butterfly'],'backstroke':['100 IM','100 Frim','100 backstroke sprint'],'breaststroke':['100 Frim','100 IM','100 sprint']}\n",
        "    self.drills = {'freestyle':['zipper drill','fist drill','Head up drill','drag finger tips drill'],'butterfly':['1 hand butterfly drill','2-2-2 drill','freestyle kick and butterfly hand drill','sideways drill'],'breaststroke':['2 kick 1 pull drill','heal tag drill(put your hands on heel)','frestyle kick breaststroke pull','breastroke kick with butterfly hands'],'backstroke':['butterfly hands on back drill','backstroke spin drill','no kick backstroke drill','streamline backstroke']}\n",
        "  def add_warm_up(self):\n",
        "    if self.freestyle_time > 20 or self.difficulty == 'easy':\n",
        "      self.activites.append([100,'warm up'])\n",
        "      self.how_much_yards_left-=100\n",
        "    elif self.freestyle_time > 16 or self.difficulty == 'normal':\n",
        "      self.activites.append([200,'warm up'])\n",
        "      self.how_much_yards_left-=200\n",
        "    else:\n",
        "      self.activites.append([300,'warm up',450])\n",
        "      self.how_much_yards_left-=300\n",
        "    kick_time = random.randint(3,4)\n",
        "    self.how_much_yards_left -=kick_time*50\n",
        "    self.activites.append([kick_time*50,f'kick 50*{kick_time}'])\n",
        "  def add_drills(self):\n",
        "    using = round(0.2 * self.how_much_yards_left/100)*100\n",
        "    if self.difficulty == 'easy':\n",
        "      using = round(0.2 * self.how_much_yards_left/100)*100-100\n",
        "    if using > 400:\n",
        "      using = 400\n",
        "\n",
        "    self.how_much_yards_left -= using\n",
        "    used_drills = []\n",
        "    for i in range(0,int(using/100)):\n",
        "      avalible = 0\n",
        "      while not avalible:\n",
        "        drill_using = random.choice(self.drills[self.main_stroke])\n",
        "        if drill_using in used_drills:\n",
        "          continue\n",
        "        used_drills.append(drill_using)\n",
        "        self.activites.append([\"4x25 \"+drill_using,100,50])\n",
        "        avalible = 1\n",
        "    \n",
        "  def add_main_part(self):\n",
        "    using = round(0.9 * self.how_much_yards_left/100)*100\n",
        "    if self.difficulty == 'easy':\n",
        "      using = round(0.9 * self.how_much_yards_left/100)*100-100\n",
        "\n",
        "\n",
        "    self.how_much_yards_left -= using\n",
        "    self.using_left = using\n",
        "    using_set = []\n",
        "    i = 0\n",
        "    while True:\n",
        "      set_using = random.choice(self.main_things[self.main_stroke])\n",
        "      using_set.append(set_using)\n",
        "      i+=1\n",
        "      if i>= using/100:\n",
        "        break\n",
        "    i = 0\n",
        "    used_already = []\n",
        "    while True:\n",
        "      if not using_set[i] in used_already:\n",
        "        self.activites.append([str(using_set.count(using_set[i])) + 'x' + using_set[i],using_set.count(using_set[i])*100])\n",
        "        used_already.append(using_set[i])\n",
        "\n",
        "      i += 1\n",
        "      if i >= using/100:\n",
        "        break\n",
        "\n",
        "\n",
        "      \n",
        "  def add_cool_down(self):\n",
        "    self.activites.append(['cool down',self.how_much_yards_left])\n",
        "    self.how_much_yards_left = 0\n",
        "  def add_everything(self):\n",
        "    self.add_warm_up()\n",
        "    self.add_drills()\n",
        "    self.add_main_part()\n",
        "    self.add_cool_down()\n",
        "\n",
        "  def show_full_set(self):\n",
        "    print(f\"Title name:{self.title}, difficulty:{self.difficulty}\")\n",
        "\n",
        "    for i in range(0,len(self.activites)):\n",
        "      try:\n",
        "        print(f\"{i+1}. {self.activites[i][0]} {self.activites[i][1]} : {self.activites[i][2]}\\n \")\n",
        "      except:\n",
        "        print(f\"{i+1}. {self.activites[i][0]} {self.activites[i][1]}\\n\")\n",
        "      \n",
        "    print(f\"total amount:{self.how_much_yards}\")\n",
        "\n"
      ]
    },
    {
      "cell_type": "code",
      "source": [],
      "metadata": {
        "id": "62K8wdyZOxsJ"
      },
      "execution_count": null,
      "outputs": []
    },
    {
      "cell_type": "code",
      "source": [],
      "metadata": {
        "colab": {
          "base_uri": "https://localhost:8080/"
        },
        "id": "MuUQX5eFJJvO",
        "outputId": "4deff008-99be-44cf-e5a1-7a867696b01d"
      },
      "execution_count": 1,
      "outputs": [
        {
          "output_type": "execute_result",
          "data": {
            "text/plain": [
              "4"
            ]
          },
          "metadata": {},
          "execution_count": 1
        }
      ]
    },
    {
      "cell_type": "code",
      "source": [
        "thing = swimming_set('hard set','hard',1200,19,'breaststroke',16)\n",
        "thing.add_everything()"
      ],
      "metadata": {
        "id": "3FCUQjNGWigi"
      },
      "execution_count": 67,
      "outputs": []
    },
    {
      "cell_type": "code",
      "source": [],
      "metadata": {
        "id": "wTKiHisSPHvx"
      },
      "execution_count": null,
      "outputs": []
    },
    {
      "cell_type": "code",
      "source": [
        "thing.show_full_set()"
      ],
      "metadata": {
        "id": "v7xarNaxWfPZ",
        "colab": {
          "base_uri": "https://localhost:8080/"
        },
        "outputId": "0fee71f4-6b0d-4b90-ab45-cdb2e6a7b12d"
      },
      "execution_count": 68,
      "outputs": [
        {
          "output_type": "stream",
          "name": "stdout",
          "text": [
            "Title name:hard set, difficulty:hard\n",
            "1. 300 warm up : 450\n",
            " \n",
            "2. 150 kick 50*3\n",
            "\n",
            "3. 4x25 2 kick 1 pull drill 100 : 50\n",
            " \n",
            "4. 4x25 breastroke kick with butterfly hands 100 : 50\n",
            " \n",
            "5. 3x100 sprint 300\n",
            "\n",
            "6. 1x100 IM 100\n",
            "\n",
            "7. 1x100 Frim 100\n",
            "\n",
            "8. cool down 50\n",
            "\n",
            "total amount:1200\n"
          ]
        }
      ]
    }
  ]
}