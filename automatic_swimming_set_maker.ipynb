{
  "nbformat": 4,
  "nbformat_minor": 0,
  "metadata": {
    "colab": {
      "provenance": [],
      "authorship_tag": "ABX9TyMlDcHd+hY55Xp1Ylh8j+ja",
      "include_colab_link": true
    },
    "kernelspec": {
      "name": "python3",
      "display_name": "Python 3"
    },
    "language_info": {
      "name": "python"
    },
    "gpuClass": "standard"
  },
  "cells": [
    {
      "cell_type": "markdown",
      "metadata": {
        "id": "view-in-github",
        "colab_type": "text"
      },
      "source": [
        "<a href=\"https://colab.research.google.com/github/adrianyang2012/automatic_swim_set_maker/blob/main/automatic_swimming_set_maker.ipynb\" target=\"_parent\"><img src=\"https://colab.research.google.com/assets/colab-badge.svg\" alt=\"Open In Colab\"/></a>"
      ]
    },
    {
      "cell_type": "code",
      "execution_count": 1,
      "metadata": {
        "id": "SiAAaianZbv6"
      },
      "outputs": [],
      "source": [
        "import random\n",
        "\n",
        "class swimming_set():\n",
        "  \n",
        "  \n",
        "  def __init__(self,title,difficulty,how_much_yards,time_for_main_stroke,main_stroke,freestyle_time,range_1,range_2):\n",
        "    self.range1= range_1\n",
        "    self.range2 = range_2\n",
        "    self.title = title\n",
        "    self.difficulty = difficulty\n",
        "    self.activites = []\n",
        "    self.how_much_yards = how_much_yards\n",
        "    self.how_much_yards_left = how_much_yards\n",
        "    self.time_for_main_stroke = time_for_main_stroke\n",
        "    self.main_stroke = main_stroke\n",
        "    self.freestyle_time = freestyle_time\n",
        "    self.range = random.randint(self.range1,self.range2)/10\n",
        "    self.av_range = (self.range1+self.range2)/2\n",
        "    self.main_things = {'freestyle':['100 Frim','100 freestyle','4x25 sprint'],'butterfly':['100 IM','4x25 butterfly sprint','2x50 butterfly'],'backstroke':['100 IM','100 Frim','100 backstroke sprint'],'breaststroke':['100 Frim','100 IM','100 sprint']}\n",
        "    self.drills = {'freestyle':['zipper drill','fist drill','Head up drill','drag finger tips drill','with fins drill','paddle drill'],'butterfly':['1 hand butterfly drill','2-2-2 drill','freestyle kick and butterfly hand drill','sideways drill','with bouy drill','butterfly fist drill '],'breaststroke':['2 kick 1 pull drill','heal tag drill(put your hands on heel)','frestyle kick breaststroke pull','breastroke kick with butterfly hands','no leg breaststroke drill','breaststroke hands with dolphin kick'],'backstroke':['butterfly hands on back drill','backstroke spin drill','no kick backstroke drill','streamline backstroke','one hand backstroke drill','L drill backstroke']}\n",
        "  def add_warm_up(self):\n",
        "    if self.freestyle_time > 20 or self.difficulty == 'easy':\n",
        "      self.activites.append([100,'warm up'])\n",
        "      self.how_much_yards_left-=100\n",
        "    elif self.freestyle_time > 16 or self.difficulty == 'normal':\n",
        "      self.activites.append([200,'warm up'])\n",
        "      self.how_much_yards_left-=200\n",
        "    else:\n",
        "      self.activites.append([300,'warm up',450])\n",
        "      self.how_much_yards_left-=300\n",
        "    kick_time = random.randint(3,4)\n",
        "    self.how_much_yards_left -=kick_time*50\n",
        "    self.activites.append([kick_time*50,f'kick 50*{kick_time}'])\n",
        "  def add_drills(self):\n",
        "    using = round(self.range * self.how_much_yards_left/100)*100\n",
        "    if self.difficulty == 'easy':\n",
        "      using = round(self.range * self.how_much_yards_left/100)*100-100\n",
        "    if using > 600:\n",
        "      using = 600\n",
        "\n",
        "    self.how_much_yards_left -= using\n",
        "    used_drills = []\n",
        "    for i in range(0,int(using/100)):\n",
        "      avalible = 0\n",
        "      while not avalible:\n",
        "        drill_using = random.choice(self.drills[self.main_stroke])\n",
        "        if drill_using in used_drills:\n",
        "          continue\n",
        "        used_drills.append(drill_using)\n",
        "        self.activites.append([\"4x25 \"+drill_using,100,50])\n",
        "        avalible = 1\n",
        "    \n",
        "  def add_main_part(self):\n",
        "    using = round((self.how_much_yards_left-100)/100)*100\n",
        "    if self.difficulty == 'normal':\n",
        "      using = round((self.how_much_yards_left-200)/100)*100\n",
        "    if self.difficulty == 'easy':\n",
        "      using = round((self.how_much_yards_left-250)/100)*100\n",
        "    if using >= 0:\n",
        "      self.how_much_yards_left -= using\n",
        "    self.using_left = using\n",
        "    using_set = []\n",
        "    i = 0\n",
        "    while True:\n",
        "      if i>= using/100:\n",
        "        break\n",
        "      set_using = random.choice(self.main_things[self.main_stroke])\n",
        "      using_set.append(set_using)\n",
        "      i+=1\n",
        "      \n",
        "    i = 0\n",
        "    used_already = []\n",
        "    while True:\n",
        "      if i >= using/100:\n",
        "        break\n",
        "      if not using_set[i] in used_already:\n",
        "        self.activites.append([str(using_set.count(using_set[i])) + 'x' + using_set[i],using_set.count(using_set[i])*100])\n",
        "        used_already.append(using_set[i])\n",
        "\n",
        "      i += 1\n",
        "      \n",
        "\n",
        "\n",
        "      \n",
        "  def add_cool_down(self):\n",
        "    if self.how_much_yards_left > 0:\n",
        "      self.activites.append(['cool down',self.how_much_yards_left])\n",
        "      self.how_much_yards_left = 0\n",
        "  def add_everything(self):\n",
        "    self.add_warm_up()\n",
        "    self.add_drills()\n",
        "    self.add_main_part()\n",
        "    self.add_cool_down()\n",
        "\n",
        "  def show_full_set(self):\n",
        "    f = open(\"swim_set.txt\",\"w\")\n",
        "    print(f\"Title name:{self.title}, difficulty:{self.difficulty}\")\n",
        "    f.write(f\"Title name:{self.title}, difficulty:{self.difficulty} \\n\")\n",
        "    for i in range(0,len(self.activites)):\n",
        "      try:\n",
        "        print(f\"{i+1}. {self.activites[i][0]} {self.activites[i][1]} : {self.activites[i][2]}\\n\")\n",
        "        f.write(f\"{i+1}. {self.activites[i][0]} {self.activites[i][1]} : {self.activites[i][2]}\\n\\n\")\n",
        "      except:\n",
        "        print(f\"{i+1}. {self.activites[i][0]} {self.activites[i][1]}\\n\")\n",
        "        f.write(f\"{i+1}. {self.activites[i][0]} {self.activites[i][1]}\\n\\n\")\n",
        "      \n",
        "    print(f\"total amount:{self.how_much_yards}\")\n",
        "    f.write(f\"total amount:{self.how_much_yards}\")\n",
        "    f.close()\n",
        "\n"
      ]
    },
    {
      "cell_type": "code",
      "source": [],
      "metadata": {
        "id": "tEMCT_rfADIZ"
      },
      "execution_count": null,
      "outputs": []
    },
    {
      "cell_type": "code",
      "source": [
        "range1 = 1\n",
        "range2 = 4\n",
        "use_dictionary= {}"
      ],
      "metadata": {
        "id": "62K8wdyZOxsJ"
      },
      "execution_count": 2,
      "outputs": []
    },
    {
      "cell_type": "code",
      "source": [
        "name = input('what is your name: ')\n",
        "av_time = 0\n",
        "if name in list(use_dictionary.keys()):\n",
        "  time_dictionary = use_dictionary[name]\n",
        "  av_time = sum(list(time_dictionary.values()))/len(list(time_dictionary.keys()))\n",
        "else:\n",
        "  \n",
        "  time_dictionary = {'freestyle':int(input('what is your 25 yard freestyle time: ')),'butterfly':int(input('what is your 25 yard butterfly time: ')),'breaststroke':int(input('what is your 25 yard breaststroke time: ')),'backstroke':int(input('what 25 yard is your backstroke time: '))}\n",
        "  av_time = sum(list(time_dictionary.values()))/len(list(time_dictionary.keys()))\n",
        "  use_dictionary[name] = time_dictionary"
      ],
      "metadata": {
        "colab": {
          "base_uri": "https://localhost:8080/"
        },
        "id": "MuUQX5eFJJvO",
        "outputId": "6495d098-abb1-4527-d783-f6c8f243a5f6"
      },
      "execution_count": 3,
      "outputs": [
        {
          "name": "stdout",
          "output_type": "stream",
          "text": [
            "what is your name: Adrian\n",
            "what is your 25 yard freestyle time: 15\n",
            "what is your 25 yard butterfly time: 22\n",
            "what is your 25 yard breaststroke time: 22\n",
            "what 25 yard is your backstroke time: 22\n"
          ]
        }
      ]
    },
    {
      "cell_type": "code",
      "source": [
        "main_stroke = input('what is the main stroke: ')\n",
        "difficulty = input('what is the difficulty: ')\n",
        "if difficulty == 'normal':\n",
        "  if av_time > 25:\n",
        "    difficulty = 'easy'\n",
        "  elif av_time > 16:\n",
        "    #normal\n",
        "    pass\n",
        "  else:\n",
        "    difficulty = 'hard'\n",
        "title = input('what is the title of this set: ')\n",
        "if main_stroke in ['freestyle','butterfly','breaststroke','backstroke']:\n",
        "  try:\n",
        "    how_long = int(input('how long is the set?: '))\n",
        "    redo = 1\n",
        "    while redo:\n",
        "      thing = swimming_set(title,difficulty,how_long,time_dictionary[main_stroke],main_stroke,time_dictionary['freestyle'],range1,range2)\n",
        "      thing.add_everything()\n",
        "      thing.show_full_set()\n",
        "      print(\"downloaded swimming set file!\")\n",
        "      if input('do you want to use this? y/n: ') == 'y':\n",
        "        redo = 0\n",
        "        if thing.range < thing.av_range: \n",
        "          range1-=1\n",
        "          range2-=1\n",
        "        else:\n",
        "          range1+=1\n",
        "          range2+=1\n",
        "      else:\n",
        "        if thing.range < thing.av_range: \n",
        "          range1+=1\n",
        "          range2+=1\n",
        "        else:\n",
        "          range1-=1\n",
        "          range2-=1\n",
        "\n",
        "  except:\n",
        "    print('type a number')\n",
        "else:\n",
        "  print('that is not a stroke')"
      ],
      "metadata": {
        "id": "3FCUQjNGWigi",
        "colab": {
          "base_uri": "https://localhost:8080/"
        },
        "outputId": "15fff7ee-0635-42c1-8933-304b24c55b65"
      },
      "execution_count": 4,
      "outputs": [
        {
          "name": "stdout",
          "output_type": "stream",
          "text": [
            "what is the main stroke: freestyle\n",
            "what is the difficulty: normal\n",
            "what is the title of this set: long practice set\n",
            "how long is the set?: 2100\n",
            "Title name:long practice set, difficulty:normal\n",
            "1. 200 warm up\n",
            "\n",
            "2. 200 kick 50*4\n",
            "\n",
            "3. 4x25 fist drill 100 : 50\n",
            "\n",
            "4. 4x25 drag finger tips drill 100 : 50\n",
            "\n",
            "5. 4x25 with fins drill 100 : 50\n",
            "\n",
            "6. 6x100 Frim 600\n",
            "\n",
            "7. 1x100 freestyle 100\n",
            "\n",
            "8. 5x4x25 sprint 500\n",
            "\n",
            "9. cool down 200\n",
            "\n",
            "total amount:2100\n",
            "downloaded swimming set file!\n",
            "do you want to use this? y/n: y\n"
          ]
        }
      ]
    }
  ]
}